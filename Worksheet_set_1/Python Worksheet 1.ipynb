{
 "cells": [
  {
   "cell_type": "markdown",
   "id": "3c03a19b",
   "metadata": {},
   "source": [
    "# 1. Which of the following operators is used to calculate remainder in a   division?\n",
    "   A) # \n",
    "   B) &\n",
    "   C) % \n",
    "   D) $"
   ]
  },
  {
   "cell_type": "markdown",
   "id": "c6d7812d",
   "metadata": {},
   "source": [
    "Ans: C) %"
   ]
  },
  {
   "cell_type": "markdown",
   "id": "ee674677",
   "metadata": {},
   "source": [
    "# 2. In python 2//3 is equal to?\n",
    "    A) 0.666 \n",
    "    B) 0\n",
    "    C) 1 \n",
    "    D) 0.67"
   ]
  },
  {
   "cell_type": "markdown",
   "id": "829b30bc",
   "metadata": {},
   "source": [
    "Ans: B) 0 "
   ]
  },
  {
   "cell_type": "markdown",
   "id": "8bcc9d21",
   "metadata": {},
   "source": [
    "# 3. In python, 6<<2 is equal to?\n",
    "    A) 36 \n",
    "    B) 10\n",
    "    C) 24 \n",
    "    D) 45"
   ]
  },
  {
   "cell_type": "markdown",
   "id": "fb8a2f3f",
   "metadata": {},
   "source": [
    "Ans: C) 24"
   ]
  },
  {
   "cell_type": "markdown",
   "id": "0dcf643d",
   "metadata": {},
   "source": [
    "# 4. In python, 6&2 will give which of the following as output?\n",
    "    A) 2 \n",
    "    B) True\n",
    "    C) False \n",
    "    D) 0"
   ]
  },
  {
   "cell_type": "markdown",
   "id": "6a89c776",
   "metadata": {},
   "source": [
    "Ans: A) 2"
   ]
  },
  {
   "cell_type": "markdown",
   "id": "b251d741",
   "metadata": {},
   "source": [
    "# 5. In python, 6|2 will give which of the following as output?\n",
    "    A) 2 \n",
    "    B) 4\n",
    "    C) 0 \n",
    "    D) 6"
   ]
  },
  {
   "cell_type": "markdown",
   "id": "a5f21a2f",
   "metadata": {},
   "source": [
    "Ans: D) 6"
   ]
  },
  {
   "cell_type": "markdown",
   "id": "cfea99b1",
   "metadata": {},
   "source": [
    "# 6. What does the finally keyword denotes in python?\n",
    "    A) It is used to mark the end of the code\n",
    "    B) It encloses the lines of code which will be executed if any error occurs while executing the lines of code in \n",
    "    the try block.\n",
    "    C) the finally block will be executed no matter if the try block raises an error or not.\n",
    "    D) None of the above"
   ]
  },
  {
   "cell_type": "markdown",
   "id": "99778b2c",
   "metadata": {},
   "source": [
    "Ans: C) the finally block will be executed no matter if the try block raises an error or not."
   ]
  },
  {
   "cell_type": "markdown",
   "id": "86f249c5",
   "metadata": {},
   "source": [
    "# 7. What does raise keyword is used for in python?\n",
    "    A) It is used to raise an exception. \n",
    "    B) It is used to define lambda function\n",
    "    C) it's not a keyword in python. \n",
    "    D) None of the above"
   ]
  },
  {
   "cell_type": "markdown",
   "id": "ce0a8927",
   "metadata": {},
   "source": [
    "Ans: A) It is used to raise an exception."
   ]
  },
  {
   "cell_type": "markdown",
   "id": "17226232",
   "metadata": {},
   "source": [
    "# 8. Which of the following is a common use case of yield keyword in python?\n",
    "    A) in defining an iterator \n",
    "    B) while defining a lambda function\n",
    "    C) in defining a generator \n",
    "    D) in for loop."
   ]
  },
  {
   "cell_type": "markdown",
   "id": "811d8ece",
   "metadata": {},
   "source": [
    "Ans: C) in defining a generator"
   ]
  },
  {
   "cell_type": "markdown",
   "id": "494c6cfa",
   "metadata": {},
   "source": [
    "# 9. Which of the following are the valid variable names?\n",
    "    A) _abc \n",
    "    B) 1abc\n",
    "    C) abc2 \n",
    "    D) None of the above"
   ]
  },
  {
   "cell_type": "markdown",
   "id": "a7381d07",
   "metadata": {},
   "source": [
    "Ans: A) _abc and C) abc2"
   ]
  },
  {
   "cell_type": "markdown",
   "id": "9e74f3d5",
   "metadata": {},
   "source": [
    "# 10. Which of the following are the keywords in python?\n",
    "    A) yield \n",
    "    B) raise\n",
    "    C) look-in \n",
    "    D) all of the above"
   ]
  },
  {
   "cell_type": "markdown",
   "id": "37b8718a",
   "metadata": {},
   "source": [
    "Ans: A) yield and B) raise"
   ]
  },
  {
   "cell_type": "markdown",
   "id": "3f125d9b",
   "metadata": {},
   "source": [
    "# 11. Write a python program to find the factorial of a number."
   ]
  },
  {
   "cell_type": "code",
   "execution_count": 3,
   "id": "f711bad3",
   "metadata": {},
   "outputs": [
    {
     "name": "stdout",
     "output_type": "stream",
     "text": [
      "Enter a number: 5\n",
      "Factorial of 5 is 120\n"
     ]
    }
   ],
   "source": [
    "def fact(n):\n",
    "    if n == 0:\n",
    "        return 1\n",
    "    else:\n",
    "        return n * fact(n - 1)\n",
    "\n",
    "n = int(input(\"Enter a number: \"))\n",
    "print(\"Factorial of\", n, \"is\", fact(n))"
   ]
  },
  {
   "cell_type": "markdown",
   "id": "06b062cf",
   "metadata": {},
   "source": [
    "# 12. Write a python program to find whether a number is prime or composite."
   ]
  },
  {
   "cell_type": "code",
   "execution_count": 11,
   "id": "1d473500",
   "metadata": {},
   "outputs": [
    {
     "name": "stdout",
     "output_type": "stream",
     "text": [
      "Enter a number: 21\n",
      "21 is not a prime number.\n"
     ]
    }
   ],
   "source": [
    "def is_prime(number):\n",
    "    if number <= 1:\n",
    "        return False\n",
    "    for i in range(2, int(number**0.5) + 1):\n",
    "        if number % i == 0:\n",
    "            return False\n",
    "    return True\n",
    "\n",
    "num = int(input(\"Enter a number: \"))\n",
    "if is_prime(num):\n",
    "    print(f\"{num} is a prime number.\")\n",
    "else:\n",
    "    print(f\"{num} is not a prime number.\")"
   ]
  },
  {
   "cell_type": "markdown",
   "id": "5408c259",
   "metadata": {},
   "source": [
    "# 13. Write a python program to check whether a given string is palindrome or not."
   ]
  },
  {
   "cell_type": "code",
   "execution_count": 12,
   "id": "a2d00856",
   "metadata": {},
   "outputs": [
    {
     "name": "stdout",
     "output_type": "stream",
     "text": [
      "Enter the number: 221\n",
      "The number not a palindrome\n"
     ]
    }
   ],
   "source": [
    "def is_palindrome(number):\n",
    "    num_str = str(number)\n",
    "    \n",
    "    return num_str == num_str[::-1]\n",
    "\n",
    "num = int(input('Enter the number: '))\n",
    "if is_palindrome(num):\n",
    "    print('The number is palindrome')\n",
    "else:\n",
    "    print('The number not a palindrome')"
   ]
  },
  {
   "cell_type": "markdown",
   "id": "db8a08b9",
   "metadata": {},
   "source": [
    "# 14. Write a Python program to get the third side of right-angled triangle from two given sides."
   ]
  },
  {
   "cell_type": "code",
   "execution_count": 17,
   "id": "5be88d35",
   "metadata": {},
   "outputs": [
    {
     "name": "stdout",
     "output_type": "stream",
     "text": [
      "Enter the a: 12\n",
      "Enter the b: 12\n",
      "The length of the c is: 16.97056274847714\n"
     ]
    }
   ],
   "source": [
    "def hypotenuse(a,b):\n",
    "    c = (a ** 2 + b ** 2) ** 0.5\n",
    "    return c\n",
    "\n",
    "a = float(input(\"Enter the a: \"))\n",
    "b = float(input(\"Enter the b: \"))\n",
    "\n",
    "c = hypotenuse(a, b)\n",
    "\n",
    "print(\"The length of the c is:\", c)"
   ]
  },
  {
   "cell_type": "markdown",
   "id": "af9923e8",
   "metadata": {},
   "source": [
    "# 15. Write a python program to print the frequency of each of the characters present in a given string."
   ]
  },
  {
   "cell_type": "code",
   "execution_count": 34,
   "id": "1c9ce18b",
   "metadata": {},
   "outputs": [
    {
     "name": "stdout",
     "output_type": "stream",
     "text": [
      "H 1\n",
      "l 3\n",
      "d 1\n",
      "r 1\n",
      "e 1\n",
      "o 2\n",
      "w 1\n"
     ]
    }
   ],
   "source": [
    "s = 'Helloworld'\n",
    "t = set(s)\n",
    "for i in t:\n",
    "    print(str(i),s.count(i))"
   ]
  }
 ],
 "metadata": {
  "kernelspec": {
   "display_name": "Python 3 (ipykernel)",
   "language": "python",
   "name": "python3"
  },
  "language_info": {
   "codemirror_mode": {
    "name": "ipython",
    "version": 3
   },
   "file_extension": ".py",
   "mimetype": "text/x-python",
   "name": "python",
   "nbconvert_exporter": "python",
   "pygments_lexer": "ipython3",
   "version": "3.9.13"
  }
 },
 "nbformat": 4,
 "nbformat_minor": 5
}
