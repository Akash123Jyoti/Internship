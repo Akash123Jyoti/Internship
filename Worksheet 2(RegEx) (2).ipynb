{
 "cells": [
  {
   "cell_type": "code",
   "execution_count": 1,
   "id": "dd4dcdb4",
   "metadata": {},
   "outputs": [],
   "source": [
    "import re"
   ]
  },
  {
   "cell_type": "markdown",
   "id": "e6a6103d",
   "metadata": {},
   "source": [
    "1) Write a Python program to replace all occurrences of a space, comma, or dot with a colon."
   ]
  },
  {
   "cell_type": "code",
   "execution_count": 2,
   "id": "062e88b4",
   "metadata": {},
   "outputs": [
    {
     "name": "stdout",
     "output_type": "stream",
     "text": [
      "Python:Exercises::PHP:exercises:\n"
     ]
    }
   ],
   "source": [
    "Text = 'Python Exercises, PHP exercises.'\n",
    "result = re.sub(r'[\\ ,.]', ':', Text)\n",
    "print(result)"
   ]
  },
  {
   "cell_type": "markdown",
   "id": "0281d55f",
   "metadata": {},
   "source": [
    "2) Create a dataframe using the dictionary below and remove everything (commas (,), !, XXXX, ;, etc.) from the columns except words."
   ]
  },
  {
   "cell_type": "code",
   "execution_count": 3,
   "id": "f612581e",
   "metadata": {},
   "outputs": [
    {
     "name": "stdout",
     "output_type": "stream",
     "text": [
      "0         hello world\n",
      "1                test\n",
      "2    123four five six\n",
      "Name: SUMMARY, dtype: object\n"
     ]
    }
   ],
   "source": [
    "import pandas as pd\n",
    "\n",
    "dict = {'SUMMARY' : ['hello, world!', 'XXXXX test', '123four, five:; six...']}\n",
    "df = pd.DataFrame(dict)\n",
    "\n",
    "pattern = r'[.,!;:]|X+'\n",
    "\n",
    "data = df['SUMMARY'].str.replace(pattern, lambda m : '', regex=True)\n",
    "\n",
    "print(data)"
   ]
  },
  {
   "cell_type": "markdown",
   "id": "a64e6fc8",
   "metadata": {},
   "source": [
    "3) Create a function in python to find all words that are at least 4 characters long in a string. The use of the re.compile() method is mandatory."
   ]
  },
  {
   "cell_type": "code",
   "execution_count": 4,
   "id": "7ccfd7a7",
   "metadata": {},
   "outputs": [
    {
     "name": "stdout",
     "output_type": "stream",
     "text": [
      "['Virat', 'Kohli', 'Indian', 'international', 'cricketer', 'former', 'captain', 'Indian', 'national', 'cricket', 'team']\n"
     ]
    }
   ],
   "source": [
    "str_1 = 'Virat Kohli is an Indian international cricketer and the former captain of the Indian national cricket team'\n",
    "\n",
    "def character_long(text):\n",
    "    pattern = r'\\w{4,}'\n",
    "    \n",
    "    regex_pattern = re.compile(pattern)\n",
    "    \n",
    "    r = regex_pattern.findall(text)\n",
    "    \n",
    "    return r\n",
    "\n",
    "result = character_long(str_1)\n",
    "print(result)"
   ]
  },
  {
   "cell_type": "markdown",
   "id": "13995f7e",
   "metadata": {},
   "source": [
    "4) Create a function in python to find all three, four, and five character words in a string. The use of the re.compile() method is mandatory."
   ]
  },
  {
   "cell_type": "code",
   "execution_count": 5,
   "id": "9150e73e",
   "metadata": {},
   "outputs": [
    {
     "name": "stdout",
     "output_type": "stream",
     "text": [
      "['Virat', 'Kohli', 'India', 'inter', 'natio', 'nal', 'crick', 'eter', 'and', 'the', 'forme', 'capta', 'the', 'India', 'natio', 'nal', 'crick', 'team']\n"
     ]
    }
   ],
   "source": [
    "text = 'Virat Kohli is an Indian international cricketer and the former captain of the Indian national cricket team'\n",
    "\n",
    "def long_words(text):\n",
    "    pattern = r'\\w{3,5}'\n",
    "    \n",
    "    regex_pattern = re.compile(pattern)\n",
    "    \n",
    "    s = regex_pattern.findall(text)\n",
    "    \n",
    "    return s\n",
    "\n",
    "\n",
    "res = long_words(text)\n",
    "print(res)"
   ]
  },
  {
   "cell_type": "markdown",
   "id": "b19cdf10",
   "metadata": {},
   "source": [
    "5) Create a function in Python to remove the parenthesis in a list of strings. The use of the re.compile() method is mandatory."
   ]
  },
  {
   "cell_type": "code",
   "execution_count": 6,
   "id": "07758151",
   "metadata": {},
   "outputs": [
    {
     "name": "stdout",
     "output_type": "stream",
     "text": [
      "[\"example .com\", \"hr@fliprobo .com\", \"github .com\", \"Hello Data Science World\", \"Data Scientist\"]\n"
     ]
    }
   ],
   "source": [
    "text = '[\"example (.com)\", \"hr@fliprobo (.com)\", \"github (.com)\", \"Hello (Data Science World)\", \"Data (Scientist)\"]'\n",
    "\n",
    "def param(text):\n",
    "    pattern = r'[\\(\\)]'\n",
    "    \n",
    "    regex_pattern = re.compile(pattern)\n",
    "    \n",
    "    t = regex_pattern.sub('', text)\n",
    "    \n",
    "    return t\n",
    "\n",
    "\n",
    "res = param(text)\n",
    "print(res)"
   ]
  },
  {
   "cell_type": "markdown",
   "id": "18192691",
   "metadata": {},
   "source": [
    "6) Write a python program to remove the parenthesis area from the text stored in the text file using Regular Expression."
   ]
  },
  {
   "cell_type": "code",
   "execution_count": 7,
   "id": "dc85eed4",
   "metadata": {},
   "outputs": [
    {
     "name": "stdout",
     "output_type": "stream",
     "text": [
      "example hr@fliprobo github Hello Data \n"
     ]
    }
   ],
   "source": [
    "text = [\"example (.com)\", \"hr@fliprobo (.com)\", \"github (.com)\", \"Hello (Data Science World)\", \"Data (Scientist)\"]\n",
    "\n",
    "with open('6_text.txt','w') as file:\n",
    "    for item in text:\n",
    "        file.write(item)\n",
    " \n",
    "with open('6_text.txt','r') as file:\n",
    "    f = file.read()\n",
    "    \n",
    "pattern = r'\\(.*?\\)'\n",
    "res = re.sub(pattern,'',f)\n",
    "print(res)"
   ]
  },
  {
   "cell_type": "markdown",
   "id": "0bc89b85",
   "metadata": {},
   "source": [
    "7) Write a regular expression in Python to split a string into uppercase letters."
   ]
  },
  {
   "cell_type": "code",
   "execution_count": 8,
   "id": "e413ad05",
   "metadata": {},
   "outputs": [
    {
     "name": "stdout",
     "output_type": "stream",
     "text": [
      "['Importance', 'Of', 'Regular', 'Expressions', 'In', 'Python']\n"
     ]
    }
   ],
   "source": [
    "text = 'ImportanceOfRegularExpressionsInPython'\n",
    "pattern =r'[A-Z][a-z]+'\n",
    "\n",
    "r = re.findall(pattern,text)\n",
    "print(r)"
   ]
  },
  {
   "cell_type": "markdown",
   "id": "ef594fef",
   "metadata": {},
   "source": [
    "8) Create a function in python to insert spaces between words starting with numbers.***"
   ]
  },
  {
   "cell_type": "code",
   "execution_count": 9,
   "id": "a559c399",
   "metadata": {},
   "outputs": [
    {
     "name": "stdout",
     "output_type": "stream",
     "text": [
      "RegularExpression 1IsAn  2ImportantTopic  3InPython .\n"
     ]
    }
   ],
   "source": [
    "string = 'RegularExpression1IsAn2ImportantTopic3InPython.'\n",
    "\n",
    "def insert_space(text):\n",
    "    pattern = r'(\\d+)([A-Za-z]+)'\n",
    "    \n",
    "    regex_pattern = re.compile(pattern)\n",
    "    \n",
    "    t = regex_pattern.sub(r' \\1\\2 ', text)\n",
    "    \n",
    "    return t\n",
    "\n",
    "res = insert_space(string)\n",
    "\n",
    "print(res)"
   ]
  },
  {
   "cell_type": "markdown",
   "id": "3d6554b7",
   "metadata": {},
   "source": [
    "9) Create a function in python to insert spaces between words starting with capital letters or with numbers."
   ]
  },
  {
   "cell_type": "code",
   "execution_count": 10,
   "id": "d476aa9a",
   "metadata": {},
   "outputs": [
    {
     "name": "stdout",
     "output_type": "stream",
     "text": [
      " RegularExpression  1  IsAn  2  ImportantTopic  3  InPython .\n"
     ]
    }
   ],
   "source": [
    "string = 'RegularExpression1IsAn2ImportantTopic3InPython.'\n",
    "\n",
    "def insert_space(text):\n",
    "    pattern = r'(\\d+)|([A-Za-z]+)'\n",
    "    \n",
    "    regex_pattern = re.compile(pattern)\n",
    "    \n",
    "    t = regex_pattern.sub(r' \\1\\2 ', text)\n",
    "    \n",
    "    return t\n",
    "\n",
    "res = insert_space(string)\n",
    "\n",
    "print(res)"
   ]
  },
  {
   "cell_type": "markdown",
   "id": "dc38af19",
   "metadata": {},
   "source": [
    "10) Use the github link below to read the data and create a dataframe. After creating the dataframe extract the first 6 letters of each country and store in the dataframe under a new column called first_five_letters.\n",
    "Github Link-  https://raw.githubusercontent.com/dsrscientist/DSData/master/happiness_score_dataset.csv\n"
   ]
  },
  {
   "cell_type": "code",
   "execution_count": 11,
   "id": "602a19f0",
   "metadata": {},
   "outputs": [
    {
     "data": {
      "text/html": [
       "<div>\n",
       "<style scoped>\n",
       "    .dataframe tbody tr th:only-of-type {\n",
       "        vertical-align: middle;\n",
       "    }\n",
       "\n",
       "    .dataframe tbody tr th {\n",
       "        vertical-align: top;\n",
       "    }\n",
       "\n",
       "    .dataframe thead th {\n",
       "        text-align: right;\n",
       "    }\n",
       "</style>\n",
       "<table border=\"1\" class=\"dataframe\">\n",
       "  <thead>\n",
       "    <tr style=\"text-align: right;\">\n",
       "      <th></th>\n",
       "      <th>Country</th>\n",
       "      <th>Region</th>\n",
       "      <th>Happiness Rank</th>\n",
       "      <th>Happiness Score</th>\n",
       "      <th>Standard Error</th>\n",
       "      <th>Economy (GDP per Capita)</th>\n",
       "      <th>Family</th>\n",
       "      <th>Health (Life Expectancy)</th>\n",
       "      <th>Freedom</th>\n",
       "      <th>Trust (Government Corruption)</th>\n",
       "      <th>Generosity</th>\n",
       "      <th>Dystopia Residual</th>\n",
       "    </tr>\n",
       "  </thead>\n",
       "  <tbody>\n",
       "    <tr>\n",
       "      <th>0</th>\n",
       "      <td>Switzerland</td>\n",
       "      <td>Western Europe</td>\n",
       "      <td>1</td>\n",
       "      <td>7.587</td>\n",
       "      <td>0.03411</td>\n",
       "      <td>1.39651</td>\n",
       "      <td>1.34951</td>\n",
       "      <td>0.94143</td>\n",
       "      <td>0.66557</td>\n",
       "      <td>0.41978</td>\n",
       "      <td>0.29678</td>\n",
       "      <td>2.51738</td>\n",
       "    </tr>\n",
       "    <tr>\n",
       "      <th>1</th>\n",
       "      <td>Iceland</td>\n",
       "      <td>Western Europe</td>\n",
       "      <td>2</td>\n",
       "      <td>7.561</td>\n",
       "      <td>0.04884</td>\n",
       "      <td>1.30232</td>\n",
       "      <td>1.40223</td>\n",
       "      <td>0.94784</td>\n",
       "      <td>0.62877</td>\n",
       "      <td>0.14145</td>\n",
       "      <td>0.43630</td>\n",
       "      <td>2.70201</td>\n",
       "    </tr>\n",
       "    <tr>\n",
       "      <th>2</th>\n",
       "      <td>Denmark</td>\n",
       "      <td>Western Europe</td>\n",
       "      <td>3</td>\n",
       "      <td>7.527</td>\n",
       "      <td>0.03328</td>\n",
       "      <td>1.32548</td>\n",
       "      <td>1.36058</td>\n",
       "      <td>0.87464</td>\n",
       "      <td>0.64938</td>\n",
       "      <td>0.48357</td>\n",
       "      <td>0.34139</td>\n",
       "      <td>2.49204</td>\n",
       "    </tr>\n",
       "    <tr>\n",
       "      <th>3</th>\n",
       "      <td>Norway</td>\n",
       "      <td>Western Europe</td>\n",
       "      <td>4</td>\n",
       "      <td>7.522</td>\n",
       "      <td>0.03880</td>\n",
       "      <td>1.45900</td>\n",
       "      <td>1.33095</td>\n",
       "      <td>0.88521</td>\n",
       "      <td>0.66973</td>\n",
       "      <td>0.36503</td>\n",
       "      <td>0.34699</td>\n",
       "      <td>2.46531</td>\n",
       "    </tr>\n",
       "    <tr>\n",
       "      <th>4</th>\n",
       "      <td>Canada</td>\n",
       "      <td>North America</td>\n",
       "      <td>5</td>\n",
       "      <td>7.427</td>\n",
       "      <td>0.03553</td>\n",
       "      <td>1.32629</td>\n",
       "      <td>1.32261</td>\n",
       "      <td>0.90563</td>\n",
       "      <td>0.63297</td>\n",
       "      <td>0.32957</td>\n",
       "      <td>0.45811</td>\n",
       "      <td>2.45176</td>\n",
       "    </tr>\n",
       "  </tbody>\n",
       "</table>\n",
       "</div>"
      ],
      "text/plain": [
       "       Country          Region  Happiness Rank  Happiness Score  \\\n",
       "0  Switzerland  Western Europe               1            7.587   \n",
       "1      Iceland  Western Europe               2            7.561   \n",
       "2      Denmark  Western Europe               3            7.527   \n",
       "3       Norway  Western Europe               4            7.522   \n",
       "4       Canada   North America               5            7.427   \n",
       "\n",
       "   Standard Error  Economy (GDP per Capita)   Family  \\\n",
       "0         0.03411                   1.39651  1.34951   \n",
       "1         0.04884                   1.30232  1.40223   \n",
       "2         0.03328                   1.32548  1.36058   \n",
       "3         0.03880                   1.45900  1.33095   \n",
       "4         0.03553                   1.32629  1.32261   \n",
       "\n",
       "   Health (Life Expectancy)  Freedom  Trust (Government Corruption)  \\\n",
       "0                   0.94143  0.66557                        0.41978   \n",
       "1                   0.94784  0.62877                        0.14145   \n",
       "2                   0.87464  0.64938                        0.48357   \n",
       "3                   0.88521  0.66973                        0.36503   \n",
       "4                   0.90563  0.63297                        0.32957   \n",
       "\n",
       "   Generosity  Dystopia Residual  \n",
       "0     0.29678            2.51738  \n",
       "1     0.43630            2.70201  \n",
       "2     0.34139            2.49204  \n",
       "3     0.34699            2.46531  \n",
       "4     0.45811            2.45176  "
      ]
     },
     "execution_count": 11,
     "metadata": {},
     "output_type": "execute_result"
    }
   ],
   "source": [
    "import pandas as pd\n",
    "df = pd.read_csv('https://raw.githubusercontent.com/dsrscientist/DSData/master/happiness_score_dataset.csv')\n",
    "df.head()"
   ]
  },
  {
   "cell_type": "code",
   "execution_count": 12,
   "id": "ecb57929",
   "metadata": {},
   "outputs": [
    {
     "data": {
      "text/plain": [
       "44    Slovakia\n",
       "77     Nigeria\n",
       "87    Portugal\n",
       "74     Vietnam\n",
       "1      Iceland\n",
       "Name: Country, dtype: object"
      ]
     },
     "execution_count": 12,
     "metadata": {},
     "output_type": "execute_result"
    }
   ],
   "source": [
    "df['Country'].sample(5) "
   ]
  },
  {
   "cell_type": "code",
   "execution_count": 13,
   "id": "58027e9f",
   "metadata": {},
   "outputs": [
    {
     "data": {
      "text/html": [
       "<div>\n",
       "<style scoped>\n",
       "    .dataframe tbody tr th:only-of-type {\n",
       "        vertical-align: middle;\n",
       "    }\n",
       "\n",
       "    .dataframe tbody tr th {\n",
       "        vertical-align: top;\n",
       "    }\n",
       "\n",
       "    .dataframe thead th {\n",
       "        text-align: right;\n",
       "    }\n",
       "</style>\n",
       "<table border=\"1\" class=\"dataframe\">\n",
       "  <thead>\n",
       "    <tr style=\"text-align: right;\">\n",
       "      <th></th>\n",
       "      <th>Country</th>\n",
       "      <th>first_five_letters</th>\n",
       "    </tr>\n",
       "  </thead>\n",
       "  <tbody>\n",
       "    <tr>\n",
       "      <th>0</th>\n",
       "      <td>Switzerland</td>\n",
       "      <td>Switze</td>\n",
       "    </tr>\n",
       "    <tr>\n",
       "      <th>1</th>\n",
       "      <td>Iceland</td>\n",
       "      <td>Icelan</td>\n",
       "    </tr>\n",
       "    <tr>\n",
       "      <th>2</th>\n",
       "      <td>Denmark</td>\n",
       "      <td>Denmar</td>\n",
       "    </tr>\n",
       "    <tr>\n",
       "      <th>3</th>\n",
       "      <td>Norway</td>\n",
       "      <td>Norway</td>\n",
       "    </tr>\n",
       "    <tr>\n",
       "      <th>4</th>\n",
       "      <td>Canada</td>\n",
       "      <td>Canada</td>\n",
       "    </tr>\n",
       "    <tr>\n",
       "      <th>5</th>\n",
       "      <td>Finland</td>\n",
       "      <td>Finlan</td>\n",
       "    </tr>\n",
       "    <tr>\n",
       "      <th>6</th>\n",
       "      <td>Netherlands</td>\n",
       "      <td>Nether</td>\n",
       "    </tr>\n",
       "    <tr>\n",
       "      <th>7</th>\n",
       "      <td>Sweden</td>\n",
       "      <td>Sweden</td>\n",
       "    </tr>\n",
       "    <tr>\n",
       "      <th>8</th>\n",
       "      <td>New Zealand</td>\n",
       "      <td>Zealan</td>\n",
       "    </tr>\n",
       "    <tr>\n",
       "      <th>9</th>\n",
       "      <td>Australia</td>\n",
       "      <td>Austra</td>\n",
       "    </tr>\n",
       "  </tbody>\n",
       "</table>\n",
       "</div>"
      ],
      "text/plain": [
       "       Country first_five_letters\n",
       "0  Switzerland             Switze\n",
       "1      Iceland             Icelan\n",
       "2      Denmark             Denmar\n",
       "3       Norway             Norway\n",
       "4       Canada             Canada\n",
       "5      Finland             Finlan\n",
       "6  Netherlands             Nether\n",
       "7       Sweden             Sweden\n",
       "8  New Zealand             Zealan\n",
       "9    Australia             Austra"
      ]
     },
     "execution_count": 13,
     "metadata": {},
     "output_type": "execute_result"
    }
   ],
   "source": [
    "pattern = r'(\\w{6})'\n",
    "df['first_five_letters'] = df['Country'].str.extract(pattern,flags=0, expand=False)\n",
    "\n",
    "(df[['Country', 'first_five_letters']].head(10))"
   ]
  },
  {
   "cell_type": "markdown",
   "id": "9b49aa31",
   "metadata": {},
   "source": [
    "11) Write a Python program to match a string that contains only upper and lowercase letters, numbers, and underscores."
   ]
  },
  {
   "cell_type": "code",
   "execution_count": 14,
   "id": "b2f6c047",
   "metadata": {},
   "outputs": [
    {
     "name": "stdout",
     "output_type": "stream",
     "text": [
      "<re.Match object; span=(0, 16), match='Kwality_walls123'>\n"
     ]
    }
   ],
   "source": [
    "string_1 = \"Kwality_walls123 is good ice-cream company which has more differents type of flavours and types.\"\n",
    "pattern = r'\\w+'\n",
    "\n",
    "match = re.match(pattern,string_1)\n",
    "print(match)"
   ]
  },
  {
   "cell_type": "markdown",
   "id": "aa399b0e",
   "metadata": {},
   "source": [
    "12) Write a Python program where a string will start with a specific number."
   ]
  },
  {
   "cell_type": "code",
   "execution_count": 15,
   "id": "bfffdc6f",
   "metadata": {},
   "outputs": [
    {
     "name": "stdout",
     "output_type": "stream",
     "text": [
      "<re.Match object; span=(26, 34), match='123Kalpa'>\n"
     ]
    }
   ],
   "source": [
    "text = \"In himachal pradesh where 123Kalpa is king of himalayas.\"\n",
    "pattern = r'[0-9]+[A-Za-z]+'\n",
    "\n",
    "m = re.search(pattern,text)\n",
    "print(m)"
   ]
  },
  {
   "cell_type": "markdown",
   "id": "13bb8176",
   "metadata": {},
   "source": [
    "13) Write a Python program to remove leading zeros from an IP address"
   ]
  },
  {
   "cell_type": "code",
   "execution_count": 16,
   "id": "44d52891",
   "metadata": {},
   "outputs": [
    {
     "name": "stdout",
     "output_type": "stream",
     "text": [
      "192.102_1_11\n"
     ]
    }
   ],
   "source": [
    "IP_address = '192.102.001.011'\n",
    "pattern = r'\\.0+'\n",
    "\n",
    "t = re.sub(pattern,'_',IP_address)\n",
    "print(t)"
   ]
  },
  {
   "cell_type": "markdown",
   "id": "e5926888",
   "metadata": {},
   "source": [
    "14) Write a regular expression in python to match a date string in the form of Month name followed by day number and year stored in a text file."
   ]
  },
  {
   "cell_type": "code",
   "execution_count": 17,
   "id": "10cf82f9",
   "metadata": {},
   "outputs": [
    {
     "name": "stdout",
     "output_type": "stream",
     "text": [
      "August 15th 1947\n"
     ]
    }
   ],
   "source": [
    "text = 'On August 15th 1947 that India was declared independent from British colonialism, and the reins of control were handed over to the leaders of the Country'\n",
    "\n",
    "with open(\"py_text.txt\",\"w\") as file:\n",
    "    file.write(text)\n",
    "    \n",
    "with open(\"py_text.txt\",\"r\") as file:\n",
    "    d = file.read()\n",
    "    \n",
    "pattern = r'([A-Z][a-z]+ \\d{1,2}[a-z]{2} \\d{4})'\n",
    "match = re.search(pattern, d)\n",
    "print(match.group())"
   ]
  },
  {
   "cell_type": "markdown",
   "id": "6f261ed9",
   "metadata": {},
   "source": [
    "15) Write a Python program to search some literals strings in a string."
   ]
  },
  {
   "cell_type": "code",
   "execution_count": 18,
   "id": "1eaadf58",
   "metadata": {},
   "outputs": [
    {
     "name": "stdout",
     "output_type": "stream",
     "text": [
      "['fox', 'dog']\n"
     ]
    }
   ],
   "source": [
    "text = 'The quick brown fox jumps over the lazy dog.'\n",
    "pattern = 'fox|dog|horse'\n",
    "\n",
    "i = re.findall(pattern,text)\n",
    "print(i)"
   ]
  },
  {
   "cell_type": "markdown",
   "id": "4a6584c0",
   "metadata": {},
   "source": [
    "16) Write a Python program to search a literals string in a string and also find the location within the original string where the pattern occurs"
   ]
  },
  {
   "cell_type": "code",
   "execution_count": 19,
   "id": "b596db8f",
   "metadata": {},
   "outputs": [
    {
     "name": "stdout",
     "output_type": "stream",
     "text": [
      "<re.Match object; span=(16, 19), match='fox'>\n"
     ]
    }
   ],
   "source": [
    "text = 'The quick brown fox jumps over the lazy dog.'\n",
    "pattern = 'fox'\n",
    "\n",
    "result = re.search(pattern,text)\n",
    "print(result)"
   ]
  },
  {
   "cell_type": "markdown",
   "id": "ccfea2fd",
   "metadata": {},
   "source": [
    "17) Write a Python program to find the substrings within a string."
   ]
  },
  {
   "cell_type": "code",
   "execution_count": 20,
   "id": "9bd971ec",
   "metadata": {},
   "outputs": [
    {
     "name": "stdout",
     "output_type": "stream",
     "text": [
      "['exercises', 'exercises', 'exercises']\n"
     ]
    }
   ],
   "source": [
    "text ='Python exercises, PHP exercises, C# exercises'\n",
    "pattern = 'exercises'\n",
    "\n",
    "i = re.findall(pattern,text)\n",
    "print(i)"
   ]
  },
  {
   "cell_type": "markdown",
   "id": "0e329520",
   "metadata": {},
   "source": [
    "18) Write a Python program to find the occurrence and position of the substrings within a string."
   ]
  },
  {
   "cell_type": "code",
   "execution_count": 21,
   "id": "d42cb2fd",
   "metadata": {},
   "outputs": [
    {
     "name": "stdout",
     "output_type": "stream",
     "text": [
      "<re.Match object; span=(7, 16), match='exercises'>\n"
     ]
    }
   ],
   "source": [
    "text = 'Python exercises, PHP exercises, C# exercises'\n",
    "pattern = 'exercises'\n",
    "\n",
    "res = re.search(pattern, text)\n",
    "print(res)"
   ]
  },
  {
   "cell_type": "markdown",
   "id": "55c04393",
   "metadata": {},
   "source": [
    "20) Create a function in python to find all decimal numbers with a precision of 1 or 2 in a string. The use of the re.compile() method is mandatory."
   ]
  },
  {
   "cell_type": "code",
   "execution_count": 22,
   "id": "cdf83445",
   "metadata": {},
   "outputs": [
    {
     "name": "stdout",
     "output_type": "stream",
     "text": [
      "['01.12', '0132.12', '2.31', '145.8', '3.01', '27.25', '0.25']\n"
     ]
    }
   ],
   "source": [
    "text = \"01.12 0132.123 2.31875 145.8 3.01 27.25 0.25\"\n",
    "\n",
    "def decimal(text):\n",
    "    pattern = r'\\d+\\.\\d{1,2}'\n",
    "    \n",
    "    regex_pattern = re.compile(pattern)\n",
    "    \n",
    "    s = regex_pattern.findall(text)\n",
    "    \n",
    "    return s\n",
    "\n",
    "\n",
    "res = decimal(text)\n",
    "print(res)"
   ]
  },
  {
   "cell_type": "markdown",
   "id": "d660397f",
   "metadata": {},
   "source": [
    "21) Write a Python program to separate and print the numbers and their position of a given string."
   ]
  },
  {
   "cell_type": "code",
   "execution_count": 23,
   "id": "939ec2a0",
   "metadata": {},
   "outputs": [
    {
     "name": "stdout",
     "output_type": "stream",
     "text": [
      "<re.Match object; span=(37, 40), match='113'>\n"
     ]
    }
   ],
   "source": [
    "text = \"Virat Kohli played a total number of 113 test matches.\"\n",
    "pattern = r'\\d+'\n",
    "\n",
    "match = re.search(pattern,text)\n",
    "print(match)"
   ]
  },
  {
   "cell_type": "markdown",
   "id": "efd7084a",
   "metadata": {},
   "source": [
    "22) Write a regular expression in python program to extract maximum/largest numeric value from a string"
   ]
  },
  {
   "cell_type": "code",
   "execution_count": 24,
   "id": "6c2f0280",
   "metadata": {},
   "outputs": [
    {
     "name": "stdout",
     "output_type": "stream",
     "text": [
      "950\n"
     ]
    }
   ],
   "source": [
    "text = 'My marks in each semester are: 947, 896, 926, 524, 734, 950, 642'\n",
    "pattern = r'\\d+'\n",
    "\n",
    "result = re.findall(pattern,text)\n",
    "print(max(result))"
   ]
  },
  {
   "cell_type": "markdown",
   "id": "986ced24",
   "metadata": {},
   "source": [
    "23) Create a function in python to insert spaces between words starting with capital letters."
   ]
  },
  {
   "cell_type": "code",
   "execution_count": 25,
   "id": "ff6336ad",
   "metadata": {},
   "outputs": [
    {
     "name": "stdout",
     "output_type": "stream",
     "text": [
      " Regular  Expression  Is  An  Important  Topic  In  Python \n"
     ]
    }
   ],
   "source": [
    "def space(text):\n",
    "    pattern = r'([A-Z][a-z]+)'\n",
    "    \n",
    "    regex_pattern = re.compile(pattern)\n",
    "    \n",
    "    n = re.sub(regex_pattern, r' \\1 ', text)\n",
    "    \n",
    "    return n\n",
    "\n",
    "text = 'RegularExpressionIsAnImportantTopicInPython'\n",
    "result = space(text)\n",
    "print(result)"
   ]
  },
  {
   "cell_type": "markdown",
   "id": "cdae0b9a",
   "metadata": {},
   "source": [
    "24) Python regex to find sequences of one upper case letter followed by lower case letters"
   ]
  },
  {
   "cell_type": "code",
   "execution_count": 26,
   "id": "55c2e6a7",
   "metadata": {},
   "outputs": [
    {
     "name": "stdout",
     "output_type": "stream",
     "text": [
      "['Abhoy', 'Ood', 'Oy', 'He', 'An', 'Engineer']\n"
     ]
    }
   ],
   "source": [
    "text = \"Abhoy is A gOod bOy.He is An Engineer.\"\n",
    "pattern = r'[A-Z][a-z]+'\n",
    "\n",
    "r =re.findall(pattern,text)\n",
    "print(r)"
   ]
  },
  {
   "cell_type": "markdown",
   "id": "c52d8383",
   "metadata": {},
   "source": [
    "25) Write a Python program to remove continuous duplicate words from Sentence using Regular Expression."
   ]
  },
  {
   "cell_type": "code",
   "execution_count": 27,
   "id": "59fbd6d2",
   "metadata": {},
   "outputs": [
    {
     "name": "stdout",
     "output_type": "stream",
     "text": [
      "Hello hello world\n"
     ]
    }
   ],
   "source": [
    "text = 'Hello hello world world'\n",
    "pattern = r'(\\w+)(\\s\\1)'\n",
    "\n",
    "result = re.sub(pattern, r'\\1', text)\n",
    "print(result)  "
   ]
  },
  {
   "cell_type": "markdown",
   "id": "66418d64",
   "metadata": {},
   "source": [
    "26) Write a python program using RegEx to accept string ending with alphanumeric character."
   ]
  },
  {
   "cell_type": "code",
   "execution_count": 28,
   "id": "23f1da54",
   "metadata": {},
   "outputs": [
    {
     "name": "stdout",
     "output_type": "stream",
     "text": [
      "<re.Match object; span=(33, 45), match='nutrients90_'>\n"
     ]
    }
   ],
   "source": [
    "str_1 = 'it is a Apple231 and it has high nutrients90_'\n",
    "pattern = r'\\w+$'\n",
    "\n",
    "res = re.search(pattern,str_1)\n",
    "print(res)"
   ]
  },
  {
   "cell_type": "markdown",
   "id": "a22bdaf2",
   "metadata": {},
   "source": [
    "27) Write a python program using RegEx to extract the hashtags."
   ]
  },
  {
   "cell_type": "code",
   "execution_count": 29,
   "id": "2db05aae",
   "metadata": {},
   "outputs": [
    {
     "name": "stdout",
     "output_type": "stream",
     "text": [
      "['#Doltiwal', '#xyzabc', '#Demonetization']\n"
     ]
    }
   ],
   "source": [
    "text =  \"\"\"RT @kapil_kausik: #Doltiwal I mean #xyzabc is \"hurt\" by #Demonetization \n",
    "           as the same has rendered USELESS <ed><U+00A0><U+00BD><ed><U+00B1><U+0089> \n",
    "           \"acquired funds\" No wo\"\"\"\n",
    "pattern = r'#\\w+'\n",
    "\n",
    "result = re.findall(pattern,text)\n",
    "print(result)"
   ]
  },
  {
   "cell_type": "markdown",
   "id": "2e355911",
   "metadata": {},
   "source": [
    "28) Write a python program using RegEx to remove <U+..> like symbols"
   ]
  },
  {
   "cell_type": "code",
   "execution_count": 30,
   "id": "96a09997",
   "metadata": {},
   "outputs": [
    {
     "name": "stdout",
     "output_type": "stream",
     "text": [
      "@Jags123456 Bharat band on 28??<ed><ed>Those who are protesting #demonetization are all different party leaders\n"
     ]
    }
   ],
   "source": [
    "text = \"@Jags123456 Bharat band on 28??<ed><U+00A0><U+00BD><ed><U+00B8><U+0082>Those who are protesting #demonetization are all different party leaders\"\n",
    "pattern = r'\\<U\\+[A-Z0-9]+>'\n",
    "\n",
    "res = re.sub(pattern, '', text)\n",
    "print(res)"
   ]
  },
  {
   "cell_type": "markdown",
   "id": "861c5d4c",
   "metadata": {},
   "source": [
    "29) Write a python program to extract dates from the text stored in the text file."
   ]
  },
  {
   "cell_type": "code",
   "execution_count": 31,
   "id": "e819da07",
   "metadata": {},
   "outputs": [
    {
     "name": "stdout",
     "output_type": "stream",
     "text": [
      "['12-09-1992', '15-12-1999']\n"
     ]
    }
   ],
   "source": [
    "text = 'Ron was born on 12-09-1992 and he was admitted to school 15-12-1999'\n",
    "\n",
    "with open('akash_text.txt','w') as file:\n",
    "    file.write(text)\n",
    "    \n",
    "with open('akash_text.txt','r') as file:\n",
    "    r = file.read()\n",
    "    \n",
    "pattern = r'(\\d{1,2}\\-\\d{1,2}\\-\\d{4})'    \n",
    "res = re.findall(pattern,r)\n",
    "print(res)"
   ]
  },
  {
   "cell_type": "markdown",
   "id": "fee90433",
   "metadata": {},
   "source": [
    "30) Create a function in python to remove all words from a string of length between 2 and 4.\n",
    "The use of the re.compile() method is mandatory.\n"
   ]
  },
  {
   "cell_type": "code",
   "execution_count": 32,
   "id": "db2b68fd",
   "metadata": {},
   "outputs": [
    {
     "name": "stdout",
     "output_type": "stream",
     "text": [
      " following example creates  ArrayList  a capacity   elements. 4 elements   added   ArrayList   ArrayList  trimmed accordingly.\n"
     ]
    }
   ],
   "source": [
    "text = 'The following example creates an ArrayList with a capacity of 50 elements. 4 elements are then added to the ArrayList and the ArrayList is trimmed accordingly.'\n",
    "\n",
    "def remove_digit(text):\n",
    "    pattern = r'(\\b\\w{2,4}\\b)'\n",
    "    \n",
    "    regex_pattern = re.compile(pattern)\n",
    "    \n",
    "    r = re.sub(regex_pattern, '' ,text)\n",
    "    \n",
    "    return r\n",
    "\n",
    "result = remove_digit(text)\n",
    "print(result)"
   ]
  },
  {
   "cell_type": "code",
   "execution_count": null,
   "id": "3819765f",
   "metadata": {},
   "outputs": [],
   "source": []
  }
 ],
 "metadata": {
  "kernelspec": {
   "display_name": "Python 3 (ipykernel)",
   "language": "python",
   "name": "python3"
  },
  "language_info": {
   "codemirror_mode": {
    "name": "ipython",
    "version": 3
   },
   "file_extension": ".py",
   "mimetype": "text/x-python",
   "name": "python",
   "nbconvert_exporter": "python",
   "pygments_lexer": "ipython3",
   "version": "3.9.13"
  }
 },
 "nbformat": 4,
 "nbformat_minor": 5
}
